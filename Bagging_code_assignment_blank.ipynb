{
 "cells": [
  {
   "cell_type": "markdown",
   "metadata": {},
   "source": [
    "# Bagging"
   ]
  },
  {
   "cell_type": "markdown",
   "metadata": {},
   "source": [
    "## 0. Introduction to Ensemble methods and Bagging "
   ]
  },
  {
   "cell_type": "markdown",
   "metadata": {},
   "source": [
    "<span style=\"font-family:Georgia; font-size:11.5pt; color: dimgray; line-height:1.5\">\n",
    "\n",
    "\n",
    "&nbsp;&nbsp;&nbsp;&nbsp;&nbsp;&nbsp; Bagging is an <span style='background :yellow' > ensemble method </span>used in machine learning that can be applied to almost any <span style='background :yellow' >base learner </span> model. Generally speaking, it <span style='background :yellow' > lowers the variance of the model while maintains the low bias of the model</span>. <br>\n",
    "&nbsp;&nbsp;&nbsp;&nbsp;&nbsp;&nbsp; You may see a lot of new terminologies here that seems overwhelming. No worries, we will go over these concepts one by one. So far all you need to know it that bagging helps us develop a more reliable model. In this code assignment we will be starting from scratch and build up these concepts with yout knowledge in EE16A EE16B and CS61B.  \n",
    "&nbsp;&nbsp;&nbsp;&nbsp;&nbsp;&nbsp; Here is the <span style='background :yellow' > outline</span> of the assignment. If you are already familiar with some concept, you can feel free to skim through the part.  \n",
    "1. Machine learning Basics recap <br>\n",
    "    1.1 Linear regression <br>\n",
    "    1.2 Polynomial regression <br>\n",
    "    1.3 Overfitting<br>\n",
    "2. Bias and Variance <br>\n",
    "    2.1 Bagging: an experiment <br>\n",
    "    2.2 Bagging theory <br>\n",
    "3. Bootstrap <br>\n",
    "4. K-fold cross-validation <br>\n",
    "5. Decision Tree <br>\n",
    "    5.1 Overfitting <br>\n",
    "    5.2 Bagged trees <br>\n",
    "    5.3 Random forest <br>\n",
    "    \n",
    "Here we want you to assess your familiarity with EE16A/B ML. If you feel confident doing linear and polynomial regression and are familiar with ideas of overfitting, you can skim through part A. If you want to have a solid background before going further, take the time to go through these code work.  \n",
    "</span>"
   ]
  },
  {
   "cell_type": "markdown",
   "metadata": {},
   "source": [
    "## 1. EE16A ML Recap"
   ]
  },
  {
   "cell_type": "markdown",
   "metadata": {},
   "source": [
    "<span style=\"font-family:Georgia; font-size:11.5pt; color: dimgray; line-height:1.5\">\n",
    "&nbsp;&nbsp;&nbsp;&nbsp;&nbsp;&nbsp; Here are some useful machine learning libraries we want you to import. <span style='background :yellow' >Sklearn </span> for machine learning deploymeny, <span style='background :yellow' >Numpy </span> (often seen as np.xxx ) for efficient matrix related calculation, <span style='background :yellow' >Matplotlib\n",
    "</span>(often seen as plt.xxx) for visualization. If you want to get deeper in ML, better get familiar with these libraries :))\n",
    "</span>"
   ]
  },
  {
   "cell_type": "code",
   "execution_count": 115,
   "metadata": {},
   "outputs": [
    {
     "name": "stdout",
     "output_type": "stream",
     "text": [
      "Requirement already satisfied: mlxtend in /Users/chenyuecai/anaconda3/lib/python3.7/site-packages (0.18.0)\n",
      "Requirement already satisfied: scipy>=1.2.1 in /Users/chenyuecai/anaconda3/lib/python3.7/site-packages (from mlxtend) (1.4.1)\n",
      "Requirement already satisfied: matplotlib>=3.0.0 in /Users/chenyuecai/anaconda3/lib/python3.7/site-packages (from mlxtend) (3.1.3)\n",
      "Requirement already satisfied: numpy>=1.16.2 in /Users/chenyuecai/anaconda3/lib/python3.7/site-packages (from mlxtend) (1.18.1)\n",
      "Requirement already satisfied: joblib>=0.13.2 in /Users/chenyuecai/anaconda3/lib/python3.7/site-packages (from mlxtend) (0.14.1)\n",
      "Requirement already satisfied: pandas>=0.24.2 in /Users/chenyuecai/anaconda3/lib/python3.7/site-packages (from mlxtend) (1.0.0)\n",
      "Requirement already satisfied: setuptools in /Users/chenyuecai/anaconda3/lib/python3.7/site-packages (from mlxtend) (45.1.0.post20200127)\n",
      "Requirement already satisfied: scikit-learn>=0.20.3 in /Users/chenyuecai/anaconda3/lib/python3.7/site-packages (from mlxtend) (0.22.1)\n",
      "Requirement already satisfied: pyparsing!=2.0.4,!=2.1.2,!=2.1.6,>=2.0.1 in /Users/chenyuecai/anaconda3/lib/python3.7/site-packages (from matplotlib>=3.0.0->mlxtend) (2.4.6)\n",
      "Requirement already satisfied: cycler>=0.10 in /Users/chenyuecai/anaconda3/lib/python3.7/site-packages (from matplotlib>=3.0.0->mlxtend) (0.10.0)\n",
      "Requirement already satisfied: python-dateutil>=2.1 in /Users/chenyuecai/anaconda3/lib/python3.7/site-packages (from matplotlib>=3.0.0->mlxtend) (2.8.1)\n",
      "Requirement already satisfied: kiwisolver>=1.0.1 in /Users/chenyuecai/anaconda3/lib/python3.7/site-packages (from matplotlib>=3.0.0->mlxtend) (1.1.0)\n",
      "Requirement already satisfied: pytz>=2017.2 in /Users/chenyuecai/anaconda3/lib/python3.7/site-packages (from pandas>=0.24.2->mlxtend) (2019.3)\n",
      "Requirement already satisfied: six in /Users/chenyuecai/anaconda3/lib/python3.7/site-packages (from cycler>=0.10->matplotlib>=3.0.0->mlxtend) (1.14.0)\n",
      "\u001b[33mWARNING: You are using pip version 20.2.2; however, version 20.3 is available.\n",
      "You should consider upgrading via the '/Users/chenyuecai/anaconda3/bin/python -m pip install --upgrade pip' command.\u001b[0m\n"
     ]
    }
   ],
   "source": [
    "import sklearn.svm as svm\n",
    "import sklearn.datasets as dt\n",
    "import numpy as np\n",
    "import matplotlib\n",
    "import matplotlib.pyplot as plt\n",
    "import random\n",
    "from sklearn.metrics import accuracy_score\n",
    "from mpl_toolkits.mplot3d import Axes3D\n",
    "import sys\n",
    "!{sys.executable} -m pip install mlxtend"
   ]
  },
  {
   "cell_type": "markdown",
   "metadata": {},
   "source": [
    "<span style=\"font-family:Georgia; font-size:11.5pt; color: dimgray; line-height:1.5\">\n",
    "\n",
    "In EE16A, we have learned about the basics of machine learning: identifying the problem of classification, estimation, prediction and clustering, mastering some linear algebra techniques to solve machine learning problem, eg. least square, optimizing a loss function. (For a quick 16A ML recap please go to https://inst.eecs.berkeley.edu/~ee16a/fa19/lecture/2019-11-12_11A.pdf ) Let's start with a set of problem that we are all familiar with in EE16A, \"the line of best fit\" problems. \n",
    "    \n",
    "</span>"
   ]
  },
  {
   "cell_type": "markdown",
   "metadata": {},
   "source": [
    "### 1.1 Linear regression "
   ]
  },
  {
   "cell_type": "markdown",
   "metadata": {},
   "source": [
    "<span style=\"font-family:Georgia; font-size:11.5pt; color: dimgray; line-height:1.5\">\n",
    "In this simple exercise, we will be dealing with a toy example that helps you recap the setting of linear regression. You will also be able to bridge the gap between linear algebra and the larger setting of machine learning problem. Let's say that we are given a set of peerfectly linearly correlated data and we would like to figure out the exact formulation of their relations. We learned in the EE16A that we could formulate the problem as a least square problem and find its solution.\n",
    "</span>"
   ]
  },
  {
   "cell_type": "markdown",
   "metadata": {},
   "source": [
    "<span style=\"font-family:Georgia; font-size:11.5pt; color: dimgray; line-height:1.5\">\n",
    "First we will implement a simple function that generates linear dataa dn we visualize the data by matplotlib. Remember it's alawys a good idea to visualize data so that you can get a better idea of it. Also remember to add legend so that you will not forget what these lines are for.\n",
    "</span>"
   ]
  },
  {
   "cell_type": "code",
   "execution_count": 116,
   "metadata": {},
   "outputs": [],
   "source": [
    "def gen_linear_data(w , b):\n",
    "    xs, ys = [], []\n",
    "    for i in range(100):\n",
    "        x = 100 * random.random() - 50\n",
    "        xs.append(x)\n",
    "        ys.append(w * x + b)\n",
    "    return xs, ys"
   ]
  },
  {
   "cell_type": "code",
   "execution_count": 117,
   "metadata": {
    "scrolled": true
   },
   "outputs": [
    {
     "data": {
      "text/plain": [
       "<matplotlib.legend.Legend at 0x7ff4d47a8940>"
      ]
     },
     "execution_count": 117,
     "metadata": {},
     "output_type": "execute_result"
    },
    {
     "data": {
      "image/png": "[encoded data removed]",
      "text/plain": [
       "<Figure size 432x288 with 1 Axes>"
      ]
     },
     "metadata": {
      "needs_background": "light"
     },
     "output_type": "display_data"
    }
   ],
   "source": [
    "x_linear, y_linear = gen_linear_data(1.5 , 30)\n",
    "plt.scatter(x_linear,y_linear, label = 'Linear data: w = 1.5 b = 30')\n",
    "plt.legend(loc = 'upper left')"
   ]
  },
  {
   "cell_type": "markdown",
   "metadata": {},
   "source": [
    "<span style=\"font-family:Georgia; font-size:11.5pt; color: dimgray; line-height:1.5\">\n",
    "\n",
    "Here we know $X$ and $y$ . We can then formulate the problem as $$Ax = b$$  \n",
    "$$A = \\begin{bmatrix}\n",
    "x_1 & 1 \\\\\n",
    "x_2 & 1 \\\\\n",
    "x_3 & 1 \\\\\n",
    "\\vdots  & \\vdots \\\\\n",
    "x_m & 1\n",
    "\\end{bmatrix}$$\n",
    "\n",
    "\n",
    "$$b = \\begin{bmatrix}\n",
    "y_1 \\\\\n",
    "y_2 \\\\\n",
    "\\vdots\\\\\n",
    "y_m\n",
    "\\end{bmatrix}$$ \n",
    "</span>\n"
   ]
  },
  {
   "cell_type": "markdown",
   "metadata": {},
   "source": [
    "<span style=\"font-family:Georgia; font-size:11.5pt; color: dimgray; line-height:1.5\">\n",
    "<b>Q1:</b> Derive the <span style='background :yellow' >algebric solution</span> to the Least square problem."
   ]
  },
  {
   "cell_type": "code",
   "execution_count": null,
   "metadata": {},
   "outputs": [],
   "source": []
  },
  {
   "cell_type": "markdown",
   "metadata": {},
   "source": [
    "<span style=\"font-family:Georgia; font-size:11.5pt; color: dimgray; line-height:1.5\">\n",
    "<b>Q2:</b> Use <span style='background :yellow' >Numpy's Least square method </span>to code up the solution"
   ]
  },
  {
   "cell_type": "code",
   "execution_count": null,
   "metadata": {},
   "outputs": [],
   "source": []
  },
  {
   "cell_type": "markdown",
   "metadata": {},
   "source": [
    "<span style=\"font-family:Georgia; font-size:11.5pt; color: dimgray; line-height:1.5\">\n",
    "<b>Q3:</b> Describe how you would <span style='background :yellow' >do prediction </span>?"
   ]
  },
  {
   "cell_type": "markdown",
   "metadata": {},
   "source": [
    "<span style=\"font-family:Georgia; font-size:11.5pt; color: chocolate; line-height:1.5\">\n",
    "<b>Answer:</b>"
   ]
  },
  {
   "cell_type": "markdown",
   "metadata": {},
   "source": [
    "### 1.2. Polynomial Regression"
   ]
  },
  {
   "cell_type": "markdown",
   "metadata": {},
   "source": [
    "<span style=\"font-family:Georgia; font-size:11.5pt; color: dimgray; line-height:1.5\">\n",
    "    The previous example is set the stage for a larger set of regression problem called polynomial regression. Here we will give you some example to understand the set of regression problem better. Say our ground truth model is a second degree polynomial.  <br>\n",
    "    <br>\n",
    "<b>Q1:</b> If we used linear regression to model the problem, what problem will we have?"
   ]
  },
  {
   "cell_type": "markdown",
   "metadata": {},
   "source": [
    "<span style=\"font-family:Georgia; font-size:11.5pt; color:chocolate; line-height:1.5\">\n",
    "  <b> Answer: </b>  "
   ]
  },
  {
   "cell_type": "markdown",
   "metadata": {},
   "source": [
    "<span style=\"font-family:Georgia; font-size:11.5pt; color: dimgray; line-height:1.5\">\n",
    "<b>Q2:</b> Similar to ex1 where we generate some random linear data, generate second degree polynomial data here."
   ]
  },
  {
   "cell_type": "code",
   "execution_count": 1,
   "metadata": {},
   "outputs": [],
   "source": [
    "# Generate 100 points along a pre-defined polynomial\n",
    "# let the x range be from -3 to 0.\n",
    "def gen_poly2_data(a, b, c):\n",
    "    x_s, y_s = [], []\n",
    "    ### Start ###\n",
    "   \n",
    "    ### End ###\n",
    "    return x_s, y_s"
   ]
  },
  {
   "cell_type": "markdown",
   "metadata": {},
   "source": [
    "<span style=\"font-family:Georgia; font-size:11.5pt; color: dimgray; line-height:1.5\">\n",
    "<b>Q3:</b> Ploting the data for visualization. Refer the code in Part A."
   ]
  },
  {
   "cell_type": "code",
   "execution_count": 2,
   "metadata": {
    "scrolled": true
   },
   "outputs": [],
   "source": [
    "### Start ###\n",
    "\n",
    "### End ###"
   ]
  },
  {
   "cell_type": "markdown",
   "metadata": {},
   "source": [
    "<span style=\"font-family:Georgia; font-size:11.5pt; color: dimgray; line-height:1.5\">\n",
    "<b>Q4:</b> Now it's the time to simulate the given polynomial data! We can use different degree of polynomial and end up with the parameters that fit the data. Implement the function <span style='background :yellow' > plot_best_fit_poly </span>which takes in x, y and the desired degree. Please look into function np.ployfit. It should help a lot."
   ]
  },
  {
   "cell_type": "code",
   "execution_count": 3,
   "metadata": {},
   "outputs": [],
   "source": [
    "def plot_best_fit_poly(x_s, y_s,deg):\n",
    "    ### START ###\n",
    "    \n",
    "    ### END ###\n",
    "    #plt.figure()\n",
    "    plt.plot(x_s, y_s,\"o\", new_x, new_y, linewidth = 3)\n",
    "    plt.legend(('polynomial data', str(deg)+'th degree approximation'),\n",
    "           loc='upper right')\n",
    "    \n",
    "    #plt.show()\n",
    "    print('this is best fitted polynomial for degree ' + str(deg))"
   ]
  },
  {
   "cell_type": "markdown",
   "metadata": {},
   "source": [
    "<span style=\"font-family:Georgia; font-size:11.5pt; color: dimgray; line-height:1.5\">\n",
    "<b> Q5: </b> Now let's visualize! try using polynomial of degree 3,5,10 to model the second degree polynomial example. What do you find?"
   ]
  },
  {
   "cell_type": "code",
   "execution_count": null,
   "metadata": {},
   "outputs": [],
   "source": [
    "### START HERE ###"
   ]
  },
  {
   "cell_type": "markdown",
   "metadata": {},
   "source": [
    "<span style=\"font-family:Georgia; font-size:11.5pt; color: chocolate; line-height:1.5\">\n",
    "<b>Answer:</b>\n"
   ]
  },
  {
   "cell_type": "markdown",
   "metadata": {},
   "source": [
    "### 1.3. Imperfect data: the error term"
   ]
  },
  {
   "cell_type": "markdown",
   "metadata": {},
   "source": [
    "<span style=\"font-family:Georgia; font-size:11.5pt; color: dimgray; line-height:1.5\">\n",
    "In real life, it is almost impossible to get a set of perfect gauched data. There is a thousand ways to get things wrong. In this part, let jump out of the perfect examples and step our foot in the real life scenarios with error. Here we will manually add guassian noise to our second degree data's observation y term. (Find you want to know more about <span style='background :yellow' >gaussian noise </span>check out this page https://www.wikiwand.com/en/Gaussian_function ) <br>\n",
    "<b> Q1: </b> Implement function add_noise with two parameters: mean and variance of the guassian noise.\n"
   ]
  },
  {
   "cell_type": "code",
   "execution_count": 7,
   "metadata": {},
   "outputs": [],
   "source": [
    "def add_noise(mu, var, ys):\n",
    "    errors = []\n",
    "    for i in range(len(ys)):\n",
    "        ### START ###\n",
    "     \n",
    "    ### END ###\n",
    "    return y_with_error  "
   ]
  },
  {
   "cell_type": "markdown",
   "metadata": {},
   "source": [
    "<span style=\"font-family:Georgia; font-size:11.5pt; color: dimgray; line-height:1.5\">\n",
    "Here let the noise term centered around zero and have a variance of 0.5. Let's find the polynomial classifer on this noisy data instead. <br>\n",
    "    <b> Q2: </b> Plot out the classifier along with the data for at least 5 different degrees of polynomial and write down your observation"
   ]
  },
  {
   "cell_type": "code",
   "execution_count": 8,
   "metadata": {},
   "outputs": [],
   "source": [
    "### START HERE ###"
   ]
  },
  {
   "cell_type": "markdown",
   "metadata": {},
   "source": [
    "<span style=\"font-family:Georgia; font-size:11.5pt; color: chocolate; line-height:1.5\">\n",
    "<b> Answer: </b >"
   ]
  },
  {
   "cell_type": "markdown",
   "metadata": {},
   "source": [
    "## 2. Variance and Bias: a brief recap"
   ]
  },
  {
   "cell_type": "markdown",
   "metadata": {},
   "source": [
    "<span style=\"font-family:Georgia; font-size:11.5pt; color: dimgray; line-height:1.5\">\n",
    "In Week 2, we have learned about bias-variance decomposition. We learned about varince bias decomposition which consists of three terms: <span style='background :yellow' >bias of the method, variance of the method and irreducible error. </span>Let's first do a basic exericse to recap the concept. Here are have the ground true function $y = x + sin(1.5x)$ and the observed data is has an error term $ N ~(0,1) $"
   ]
  },
  {
   "cell_type": "code",
   "execution_count": 126,
   "metadata": {},
   "outputs": [],
   "source": [
    "def gen_true_data(num):\n",
    "    x_s, y_s = [],[]\n",
    "    for i in range(num):\n",
    "        x = random.random() * 4 - 2\n",
    "        x_s.append(x)\n",
    "        y_s.append(x+ np.sin(1.5*x))\n",
    "    return x_s, y_s"
   ]
  },
  {
   "cell_type": "code",
   "execution_count": 127,
   "metadata": {},
   "outputs": [
    {
     "data": {
      "text/plain": [
       "<matplotlib.legend.Legend at 0x7ff4d4f0e898>"
      ]
     },
     "execution_count": 127,
     "metadata": {},
     "output_type": "execute_result"
    },
    {
     "data": {
      "image/png": "[encoded data removed]",
      "text/plain": [
       "<Figure size 432x288 with 1 Axes>"
      ]
     },
     "metadata": {
      "needs_background": "light"
     },
     "output_type": "display_data"
    }
   ],
   "source": [
    "x_obs, y_true = gen_true_data(100)\n",
    "y_obs = add_noise(0,0.5, y_true)\n",
    "new_x = np.linspace(min(x_obs), max(x_obs))\n",
    "new_y = new_x + np.sin(1.5 * new_x)\n",
    "plt.plot(x_obs, y_obs,'o',new_x, new_y, linewidth = 3)\n",
    "plt.legend((\"noisy data\",\"ground truth value\"), loc = \"upper left\")"
   ]
  },
  {
   "cell_type": "markdown",
   "metadata": {},
   "source": [
    "<span style=\"font-family:Georgia; font-size:11.5pt; color: dimgray; line-height:1.5\">  \n",
    "    <b> Q1:</b> Let's get 20 separate observation data bundle from the underlying function. Write down how would the each dataset be? Why would they be different?"
   ]
  },
  {
   "cell_type": "markdown",
   "metadata": {},
   "source": [
    "<span style=\"font-family:Georgia; font-size:11.5pt; color: chocolate; line-height:1.5\">\n",
    "<b>Answer:</b> "
   ]
  },
  {
   "cell_type": "markdown",
   "metadata": {},
   "source": [
    "<span style=\"font-family:Georgia; font-size: 11.5pt; color: dimgray; line-height:1.5\">  <b> Q2:</b> Implement the following function to generate a number of data bundles, store them in lists x_data, y_data."
   ]
  },
  {
   "cell_type": "code",
   "execution_count": 128,
   "metadata": {},
   "outputs": [],
   "source": [
    "def gen_bundle_data(num):\n",
    "    x_data,y_data = [],[]\n",
    "    ### START ###\n",
    "\n",
    "    ### END ###\n",
    "    return x_data, y_data"
   ]
  },
  {
   "cell_type": "code",
   "execution_count": 129,
   "metadata": {},
   "outputs": [],
   "source": [
    "x_bundle, y_bundle = gen_bundle_data(20)"
   ]
  },
  {
   "cell_type": "markdown",
   "metadata": {},
   "source": [
    "<span style=\"font-family:Georgia; font-size: 11.5pt; color: dimgray; line-height:1.5\">  <b> Q3:</b> Implement the following function bias_variance_demo. It should simulate each data bundle with degree 1-4 polynomial and report the following: <span style='background :yellow' >the mean classifier, the variance and bias of the result.</span> </span>"
   ]
  },
  {
   "cell_type": "code",
   "execution_count": 130,
   "metadata": {},
   "outputs": [],
   "source": [
    "\"\"\" Simulate the data with degree 1-4 polynomial and report the variance and bias of the result\n",
    "\"\"\"\n",
    "def bias_variance_demo(degree):\n",
    "    coeffs = []\n",
    "    ### START ###\n",
    "    \n",
    "    ### END\n",
    "    mean_coeff = np.mean((coeffs),axis = 0)\n",
    "    mean_y = np.poly1d(mean_coeff)(new_x)\n",
    "    plt.plot(new_x, mean_y, linewidth = 3 , label = 'approximation')\n",
    "    plt.plot(new_x, new_y, linewidth = 3, label = 'ground truth')\n",
    "    plt.scatter(x_s, y_s,linewidths =0.5,  label = 'data')\n",
    "    plt.legend(loc = 'upper left')\n",
    "    plt.title(str(degree) + \"th degree polynomial simulation of the function x+ sin(1.5*x)\")\n",
    "    plt.show()\n",
    "    \n",
    "        \n",
    "    bias = abs(sum(mean_y - new_y))\n",
    "    y_s = []\n",
    "    for i in range(20):\n",
    "        coeff = coeffs[i]\n",
    "        poly = np.poly1d(coeff)\n",
    "        y_s.append(poly(new_x))    \n",
    "    variance = np.var(y_s)\n",
    "    print(\"bias is \" + str(bias))\n",
    "    print(\"variance is \" + str(variance))\n",
    "    print(\"bias**2 + variance = \" + str(bias**2+variance))"
   ]
  },
  {
   "cell_type": "code",
   "execution_count": null,
   "metadata": {},
   "outputs": [],
   "source": []
  },
  {
   "cell_type": "markdown",
   "metadata": {},
   "source": [
    "\n",
    "<span style=\"font-family:Georgia; font-size:11.5pt; color: dimgray; line-height:1.5\"> One would observe that as the degree of polynomial increases the bias is steadily decreasing yet the variance is increasing. Why is that? You should already encounter the concept of bias variance decomposition in previous weeks and in notes."
   ]
  },
  {
   "cell_type": "markdown",
   "metadata": {},
   "source": [
    "### 2.1 Bagging: A preliminary experiment"
   ]
  },
  {
   "cell_type": "markdown",
   "metadata": {},
   "source": [
    "<span style=\"font-family:Georgia; font-size:11.5pt; color: dimgray; line-height:1.5\"> \n",
    "Indeed, different learners and model classes have different tradeoffs.  \n",
    "– large bias/small variance: few features, highly regularized, highly pruned decision trees, large-k kNN etc  \n",
    "– small bias/high variance: many features, less regularization, small-k k-NN etc"
   ]
  },
  {
   "cell_type": "markdown",
   "metadata": {},
   "source": [
    "<span style=\"font-family:Georgia; font-size:11.5pt; color: dimgray; line-height:1.5\"> \n",
    "A natural questions arises as well deal with models with low bias and high variance. How can we prevent them from overfitting? From the previous part, we find that the mean model is much more smoothened out. From there, one natural intuition arises: averaging out the result of the model. In the previous example, we had 20 datasets generated from the underlying ground truth function. In real life, we only have one set of dataset and we do not have the gournd truth function. How could we generate all the datasets? We can simply use our gen_bundle_data function"
   ]
  },
  {
   "cell_type": "markdown",
   "metadata": {},
   "source": [
    "<span style=\"font-family:Georgia; font-size:11.5pt; color: dimgray; line-height:1.5\"> \n",
    "<b>Q1.</b> Generate noisy x and y data as well as testing data (30 data points) using previously defined function."
   ]
  },
  {
   "cell_type": "code",
   "execution_count": 133,
   "metadata": {},
   "outputs": [],
   "source": [
    "'''Generate noisy x and y data'''\n",
    "### START HERE ###"
   ]
  },
  {
   "cell_type": "code",
   "execution_count": 134,
   "metadata": {},
   "outputs": [],
   "source": [
    "'''Generate standard test data '''\n",
    "### START HERE ###"
   ]
  },
  {
   "cell_type": "markdown",
   "metadata": {},
   "source": [
    "<span style=\"font-family:Georgia; font-size:11.5pt; color: dimgray; line-height:1.5\"> \n",
    "<b>Q2.</b> Code up the function that computes regression error for bagging learner. It should take in training data, testing data, number of bagging process and the degree of polynomial as its paramters."
   ]
  },
  {
   "cell_type": "code",
   "execution_count": 142,
   "metadata": {},
   "outputs": [],
   "source": [
    "def bagging_poly_error(x_train,y_train,degree, iteration,x_test, y_test):\n",
    "    y_pred = []\n",
    "    for i in range(iteration):\n",
    "        idx = random.sample(range(100),80)\n",
    "        train_x,train_y = np.array(x_train)[idx],np.array(y_train)[idx]\n",
    "        coefficients = np.polyfit(train_x,train_y, deg=degree)\n",
    "        poly = np.poly1d(coefficients)\n",
    "        y_pred.append(poly(x_test)) \n",
    "        \n",
    "    ### START ###\n",
    "    return "
   ]
  },
  {
   "cell_type": "code",
   "execution_count": 143,
   "metadata": {},
   "outputs": [],
   "source": [
    "bagging_errors = []\n",
    "for i in range(2,20,2):\n",
    "    bagging_error = []\n",
    "    for i in range (1,30,3):\n",
    "        bagging_error.append(bagging_poly_error(x_noisy[0],y_noisy[0],16,i,x_test, y_test))\n",
    "    bagging_errors.append(bagging_error)"
   ]
  },
  {
   "cell_type": "markdown",
   "metadata": {},
   "source": [
    "<span style=\"font-family:Georgia; font-size:11.5pt; color: dimgray; line-height:1.5\"> \n",
    "<b>Q3.</b> Code up the function that computes regression error for polynomial learner"
   ]
  },
  {
   "cell_type": "code",
   "execution_count": 144,
   "metadata": {},
   "outputs": [],
   "source": [
    "'''Code up the function that computes regression error for polynomial learner'''\n",
    "def poly_error(x_train,y_train,degree, x_test, y_test):\n",
    "    train_x,train_y = np.array(x_train),np.array(y_train)\n",
    "    coefficients = np.polyfit(train_x,train_y, deg=degree)\n",
    "    poly = np.poly1d(coefficients)\n",
    "    y_pred = poly(x_test)\n",
    "    ### START ###\n",
    "    return "
   ]
  },
  {
   "cell_type": "code",
   "execution_count": 145,
   "metadata": {},
   "outputs": [],
   "source": [
    "regression_errors = []\n",
    "for i in range(2,20,2):\n",
    "    k = poly_error(x_noisy[0],y_noisy[0],16,x_test, y_test)\n",
    "    regression_errors.append(k)"
   ]
  },
  {
   "cell_type": "markdown",
   "metadata": {},
   "source": [
    "<span style=\"font-family:Georgia; font-size:11.5pt; color: dimgray; line-height:1.5\"> \n",
    "<b>Q4.</b> Now, plot out the bagging error of different iterations."
   ]
  },
  {
   "cell_type": "code",
   "execution_count": 9,
   "metadata": {},
   "outputs": [],
   "source": [
    "### START HERE ###\n"
   ]
  },
  {
   "cell_type": "markdown",
   "metadata": {},
   "source": [
    "<span style=\"font-family:Georgia; font-size:11.5pt; color: dimgray; line-height:1.5\"> \n",
    "Comment on what you observe. You can see there is almost always certain times that bagging error is lower than regression error."
   ]
  },
  {
   "cell_type": "markdown",
   "metadata": {},
   "source": [
    "### 2.2 Bagging Theory"
   ]
  },
  {
   "cell_type": "markdown",
   "metadata": {},
   "source": [
    "<img src=\"https://miro.medium.com/max/700/1*_pfQ7Xf-BAwfQXtaBbNTEg.png\" width = 500pt>\n",
    "<span style=\"font-family:Georgia; font-size:11.5pt; color: dimgray; line-height:1.5\"> \n",
    "From the previous example, we can see that bagging can somehow avoid overfitting and get some pretty good result. From a theoretic pespective how does it really work?"
   ]
  },
  {
   "cell_type": "markdown",
   "metadata": {},
   "source": [
    "<span style=\"font-family:Georgia; font-size:11.5pt; color: dimgray; line-height:1.5\"> \n",
    "When we do bagging, we first bootstrap M different samples without replacement from the population. Since we are sampling without replacement, then these samples are independent of each other. Thus we name them as $Y_1, Y_2, ..., Y_m$ independent random variables each with mean $\\mu$ and variance $\\sigma ^2$. As we average them, we are basically taking the expectation of the following terms which you will see is still $\\mu$ $$ \\frac{1}{M}  \\sum_{i=1}^{M} Y_i = \\frac{1}{M} \\times {M \\mu} = \\mu $$ Therefore after all these mumble jumbles we still get that good low bias. As for variance, let's do our calculation: $$ var(\\frac{1}{M}\\sum_{i=1}^{M} Y_i) = \\frac{1}{M^2} \\times var(\\sum_{i=1}^{M} Y_i) = \\frac{1}{M^2} \\times \\sigma^2 \\times M  = \\frac{\\sigma^2} {M} $$ As we can see the variance goes down linearly as M increases. This is the exact reason why we are able to get a better result in the end."
   ]
  },
  {
   "cell_type": "markdown",
   "metadata": {},
   "source": [
    "<span style=\"font-family:Georgia; font-size:11.5pt; color: dimgray; line-height:1.5\"> \n",
    "<b>Q1.</b> Now, observe the following results of applying bagging to <span style='background :yellow' >two exising dataset: the Iris Dataset and the Boston Housing Dataset</span> Here the base learner is decision tree and the bagged learned is random forest. Look into function <span style='background :yellow' > bias_variance_decomp </span >\n",
    "</span>"
   ]
  },
  {
   "cell_type": "markdown",
   "metadata": {},
   "source": [
    "#### Iris Example"
   ]
  },
  {
   "cell_type": "markdown",
   "metadata": {},
   "source": [
    "<span style=\"font-family:Georgia; font-size:11.5pt; color: dimgray; line-height:1.5\"> \n",
    "<b>Q2.</b> Report the average bias of one single decision tree classifier. </span>"
   ]
  },
  {
   "cell_type": "code",
   "execution_count": null,
   "metadata": {},
   "outputs": [],
   "source": [
    "from mlxtend.evaluate import bias_variance_decomp\n",
    "from sklearn.tree import DecisionTreeClassifier\n",
    "from mlxtend.data import iris_data\n",
    "from sklearn.model_selection import train_test_split\n",
    "\n",
    "\n",
    "X, y = iris_data()\n",
    "X_train, X_test, y_train, y_test = train_test_split(X, y,\n",
    "                                                    test_size=0.3,\n",
    "                                                    random_state=123,\n",
    "                                                    shuffle=True,\n",
    "                                                    stratify=y)\n",
    "\n",
    "\n",
    "\n",
    "tree = DecisionTreeClassifier(random_state=123)\n",
    "\n",
    "### START ###\n",
    "\n",
    "### end ###\n",
    "\n",
    "print('Average expected loss: %.3f' % avg_expected_loss)\n",
    "print('Average bias: %.3f' % avg_bias)\n",
    "print('Average variance: %.3f' % avg_var)"
   ]
  },
  {
   "cell_type": "code",
   "execution_count": null,
   "metadata": {},
   "outputs": [],
   "source": [
    "from sklearn.ensemble import BaggingClassifier\n",
    "\n",
    "tree = DecisionTreeClassifier(random_state=123)\n",
    "bag = BaggingClassifier(base_estimator=tree,\n",
    "                        n_estimators=100,\n",
    "                        random_state=123)\n",
    "\n",
    "### START ###\n",
    "\n",
    "### END ###\n",
    "\n",
    "print('Average expected loss: %.3f' % avg_expected_loss)\n",
    "print('Average bias: %.3f' % avg_bias)\n",
    "print('Average variance: %.3f' % avg_var)"
   ]
  },
  {
   "cell_type": "markdown",
   "metadata": {},
   "source": [
    "#### Boston housing data example"
   ]
  },
  {
   "cell_type": "markdown",
   "metadata": {},
   "source": [
    "<span style=\"font-family:Georgia; font-size:11.5pt; color: dimgray; line-height:1.5\"> Now let's do the same thing to to Boston housing data. Only this time you will implement the train_test_splot and decision tree/ bagged decision tree yourself."
   ]
  },
  {
   "cell_type": "code",
   "execution_count": null,
   "metadata": {},
   "outputs": [],
   "source": [
    "from mlxtend.data import boston_housing_data\n",
    "\n",
    "\n",
    "X, y = boston_housing_data()\n",
    "### START ###\n",
    "\n",
    "### END ###\n",
    "print('Average expected loss: %.3f' % avg_expected_loss)\n",
    "print('Average bias: %.3f' % avg_bias)\n",
    "print('Average variance: %.3f' % avg_var)"
   ]
  },
  {
   "cell_type": "code",
   "execution_count": null,
   "metadata": {},
   "outputs": [],
   "source": [
    "from sklearn.ensemble import BaggingRegressor\n",
    "\n",
    "tree = DecisionTreeRegressor(random_state=123)\n",
    "### START ###\n",
    "\n",
    "### END ###\n",
    "\n",
    "print('Average expected loss: %.3f' % avg_expected_loss)\n",
    "print('Average bias: %.3f' % avg_bias)\n",
    "print('Average variance: %.3f' % avg_var)"
   ]
  },
  {
   "cell_type": "markdown",
   "metadata": {},
   "source": [
    "### 3.0 Extracting Feature from the original csv File"
   ]
  },
  {
   "cell_type": "code",
   "execution_count": null,
   "metadata": {},
   "outputs": [],
   "source": [
    "df = pd.read_csv('Admission_Predict.csv', index_col='Serial No.')\n",
    "df = df.dropna()\n",
    "df"
   ]
  },
  {
   "cell_type": "code",
   "execution_count": null,
   "metadata": {},
   "outputs": [],
   "source": [
    "X = df.drop('Chance of Admit ', axis=1)"
   ]
  },
  {
   "cell_type": "code",
   "execution_count": null,
   "metadata": {},
   "outputs": [],
   "source": [
    "y_val = df['Chance of Admit '].values\n",
    "y_val[y_val>0.8] = 1\n",
    "y_val[y_val != 1] = 0\n",
    "df['Chance of Admit '] = y_val\n",
    "y = df['Chance of Admit ']\n",
    "df"
   ]
  },
  {
   "cell_type": "markdown",
   "metadata": {},
   "source": [
    "## 3. Bootstrap\n",
    "\n",
    "<span style=\"font-family:Georgia; font-size:11.5pt; color: dimgray; line-height:1.5\"> \n",
    "If we randomly select some observations from dataset and use the sample to estimate some unknown value we want only once, the value cannot represent the real one. Instead, we can select sample multiple time, and average the value we found each time.It will make our prediction closer to the real value. That is the idea of Bootstrap. It is robustness and high efficiency because we do not need to add additional data.\n",
    "Bootstrap can also be used to create randomness in data.\n",
    "<img src=\"https://habrastorage.org/webt/n0/dg/du/n0dgduav1ygc3iylumtwjcn15mu.png\" width = 500>\n",
    "\n",
    "*Cite: Image from https://www.kaggle.com/kashnitsky/topic-5-ensembles-part-1-bagging*  \n",
    "\n",
    "<span style=\"font-family:Georgia; font-size:11.5pt; color: dimgray; line-height:1.5\"> \n",
    "Your task for this part is to use Bootstraping to find the average GRE score for students with `Chance of Admit` > 0.8.\n",
    "\n",
    "    \n",
    "<span style=\"font-family:Georgia; font-size:11.5pt; color: dimgray; line-height:1.5\"> \n",
    "    <b>Q1.</b> Before we actually start, let try to find the mean of `GRE Score` in this whole dataset."
   ]
  },
  {
   "cell_type": "code",
   "execution_count": null,
   "metadata": {},
   "outputs": [],
   "source": [
    "real_mean = ### TODO ###\n",
    "print(real_mean)"
   ]
  },
  {
   "cell_type": "markdown",
   "metadata": {},
   "source": [
    "<span style=\"font-family:Georgia; font-size:11.5pt; color: dimgray; line-height:1.5\"> \n",
    "<b>Q2.</b> Select 320 students randomly without replacement, and store the content in the variable called `sample`."
   ]
  },
  {
   "cell_type": "code",
   "execution_count": null,
   "metadata": {},
   "outputs": [],
   "source": [
    "sample = ### TODO ###\n",
    "sample.head()"
   ]
  },
  {
   "cell_type": "markdown",
   "metadata": {},
   "source": [
    "<span style=\"font-family:Georgia; font-size:11.5pt; color: dimgray; line-height:1.5\"> \n",
    "<b>Q3.</b>\n",
    "In `sample` dataframe, find the average of GRE Score."
   ]
  },
  {
   "cell_type": "code",
   "execution_count": null,
   "metadata": {},
   "outputs": [],
   "source": [
    "mean = ### TODO ###\n",
    "mean"
   ]
  },
  {
   "cell_type": "markdown",
   "metadata": {},
   "source": [
    "<span style=\"font-family:Georgia; font-size:11.5pt; color: dimgray; line-height:1.5\"> \n",
    "<b>Q4.</b> Part (b) and (c) show the process of sampleing and finding the mean of sampled `GRE Score`. Now complete bootstrap function, so that we can run this processes multiple times. "
   ]
  },
  {
   "cell_type": "code",
   "execution_count": null,
   "metadata": {},
   "outputs": [],
   "source": [
    "def bootstrap(dataframe, n):\n",
    "    avg = []\n",
    "    for i in np.arange(n):\n",
    "        bootstrap_sample = ### TODO ###\n",
    "        new_avg = ### TODO ###\n",
    "        avg = ### TODO ###\n",
    "    \n",
    "    mean = np.mean(avg)\n",
    "    return mean"
   ]
  },
  {
   "cell_type": "code",
   "execution_count": null,
   "metadata": {},
   "outputs": [],
   "source": [
    "bootstrap(df, 300)"
   ]
  },
  {
   "cell_type": "markdown",
   "metadata": {},
   "source": [
    "<span style=\"font-family:Georgia; font-size:11.5pt; color: dimgray; line-height:1.5\"> \n",
    "<b>Q5.</b> Compare with `onetime_mean`, `bootstrap_mean`, which one is closer to the `real_mean`? What can you conclude?"
   ]
  },
  {
   "cell_type": "markdown",
   "metadata": {},
   "source": [
    "<span style=\"font-family:Georgia; font-size:11.5pt; color: chocolate; line-height:1.5\">\n",
    "Solution: "
   ]
  },
  {
   "cell_type": "markdown",
   "metadata": {},
   "source": [
    "## 4. K-Fold Cross-Validation\n",
    "<span style=\"font-family:Georgia; font-size:11.5pt; color: dimgray; line-height:1.5\"> \n",
    "In the case of insufficient dataset, we can use K-Fold Cross-Validation to maximize the use of the dataset. \n",
    "<span style=\"font-family:Georgia; font-size:11.5pt; color: dimgray; line-height:1.5\"> \n",
    "As you can see in the following image, after separate the dataset into training set and test set, we initialize k, which is the number of folds that we want to separate in the training set. Then we separate the training set into k equally sized subset by using KFold() function. Then we can train our model on each split, and get the corresponding error rate each time. Finally, we average the error, and use it as an estimate of the accuracy of the model algorithm.\n",
    "\n",
    "<img src=\"https://www.textbook.ds100.org/_images/bias_cv_5_fold_cv.jpg\" width = 600>\n",
    "<span style=\"font-family:Georgia; font-size:11.5pt; color: dimgray; line-height:1.5\"> \n",
    "*Cite: Image from:https://www.textbook.ds100.org/ch/15/bias_cv.html?highlight=cross#k-fold-cross-validation*\n",
    "    <br>\n",
    "In this part, we will use linear regression model to predicts TOEFL Score from GRE Score.\n",
    "<br>\n",
    "<span style=\"font-family:Georgia; font-size:11.5pt; color: dimgray; line-height:1.5\"> \n",
    "<b> Q1. </b>First, draw a scatter plot between `df['GRE Score']` and `df['TOEFL Score']`. Also set the title and axises."
   ]
  },
  {
   "cell_type": "code",
   "execution_count": null,
   "metadata": {},
   "outputs": [],
   "source": [
    "plt.scatter(df['GRE Score'], df['TOEFL Score'])\n",
    "plt.title(\"GRE vs TOEFL\")\n",
    "plt.xlabel(\"GRE Score\")\n",
    "plt.ylabel(\"TOEFL Score\")"
   ]
  },
  {
   "cell_type": "markdown",
   "metadata": {},
   "source": [
    "<span style=\"font-family:Georgia; font-size:11.5pt; color: dimgray; line-height:1.5\"> \n",
    "<b> Q2. </b>Split the dataframe into 5 part, i.e. `numsplit` = 5, and compute `k_fold`."
   ]
  },
  {
   "cell_type": "code",
   "execution_count": null,
   "metadata": {},
   "outputs": [],
   "source": [
    "from sklearn.model_selection import KFold\n",
    "from sklearn.model_selection import train_test_split \n",
    "\n",
    "X_tr, X_te, Y_tr, Y_te = ### TODO ###\n",
    "\n",
    "numsplit = ### TODO ###\n",
    "k_fold = ### TODO ###\n"
   ]
  },
  {
   "cell_type": "markdown",
   "metadata": {},
   "source": [
    "<span style=\"font-family:Georgia; font-size:11.5pt; color: dimgray; line-height:1.5\"> \n",
    "<b> Q3. </b> Build linear regression model and finish `rmse` function."
   ]
  },
  {
   "cell_type": "code",
   "execution_count": null,
   "metadata": {},
   "outputs": [],
   "source": [
    "from sklearn import linear_model\n",
    "model = ### TODO ###\n",
    "\n",
    "def rmse(y_real, y_predict):\n",
    "    ### TODO ###"
   ]
  },
  {
   "cell_type": "markdown",
   "metadata": {},
   "source": [
    "<span style=\"font-family:Georgia; font-size:11.5pt; color: dimgray; line-height:1.5\"> \n",
    "    <b> Q4. </b> Finish `rmse_kfold` function, and print the average rmse error."
   ]
  },
  {
   "cell_type": "code",
   "execution_count": null,
   "metadata": {},
   "outputs": [],
   "source": [
    "def rmse_kfold(X_tr):\n",
    "    err = []\n",
    "    for train_idx, valid_idx in k_fold.split(X_tr):\n",
    "        ### TODO ###\n",
    "        model.fit(split_X_train,split_Y_train)\n",
    "\n",
    "    train_err = rmse(split_Y_valid,model.predict(split_X_valid))\n",
    "    err.append(train_err)\n",
    "    return np.mean(err)\n"
   ]
  },
  {
   "cell_type": "code",
   "execution_count": null,
   "metadata": {},
   "outputs": [],
   "source": [
    "rmse_err = rmse_kfold(X_tr)\n",
    "print(\"The rmse error by using K-Fold is\", rmse_err)"
   ]
  },
  {
   "cell_type": "markdown",
   "metadata": {},
   "source": [
    "## 5. Decision Tree and Bagging\n",
    "<span style=\"font-family:Georgia; font-size:11.5pt; color: dimgray; line-height:1.5\"> \n",
    "Now let's briefly introduce you to decision tree. Tree-based algorithms are a popular family of related non-parametric and supervised methods for both classification and regression. If you're wondering what supervised learning is, it's the type of machine learning algorithms which involve training models with data that has both input and output labels (in other words, we have data for which we know the true class or values, and can tell the algorithm what these are if it predicts incorrectly).\n",
    "\n",
    "<span style=\"font-family:Georgia; font-size:11.5pt; color: dimgray; line-height:1.5\"> \n",
    "The decision tree looks like a vague upside-down tree with a decision rule at the root, from which subsequent decision rules spread out below. \n",
    "\n",
    "<span style=\"font-family:Georgia; font-size:11.5pt; color: dimgray; line-height:1.5\"> \n",
    "Suppose we have four objects to classify: hawk, penguin, dolphin, and bear. It turns out that we can use a decision tree to correctly classify these four animals based on three features: \"has feathers?\", \"Can fly\", and \"Has finns\"\n",
    "\n",
    "<img src=\"https://cdn-images-1.medium.com/max/824/0*J2l5dvJ2jqRwGDfG.png\" width = 500>\n",
    "\n",
    "<span style=\"font-family:Georgia; font-size:11.5pt; color: dimgray; line-height:1.5\"> \n",
    "            A numerical representation of decision tree will be a threshold of a specific feature. Let's look at our data as an example. We limit our decision tree depth to 3 to prevent overfitting."
   ]
  },
  {
   "cell_type": "code",
   "execution_count": null,
   "metadata": {},
   "outputs": [],
   "source": [
    "from sklearn.tree import DecisionTreeClassifier\n",
    "import sklearn.tree\n",
    "dt = DecisionTreeClassifier(max_depth = 3)\n",
    "predY = dt.fit(X_tr, Y_tr).predict(X_te)\n",
    "predY[predY >= 0.5] = 1\n",
    "predY[predY != 1] = 0\n",
    "print(\"Accuracy of a single decision tree:\" + str(accuracy_score(Y_te, predY)))\n",
    "fig, axes = plt.subplots(nrows = 1,ncols = 1,figsize = (3,3), dpi=300)\n",
    "axes.set_title('College Admission Decision Tree')\n",
    "_ = tree.plot_tree(dt, \n",
    "                   feature_names=X.columns,  \n",
    "                   filled=True)"
   ]
  },
  {
   "cell_type": "markdown",
   "metadata": {},
   "source": [
    "<span style=\"font-family:Georgia; font-size:11.5pt; color: dimgray; line-height:1.5\"> \n",
    "It turns out that GPA is still the most important feature for graduate school admission, followed by TOEFL and GRE. Go bears!"
   ]
  },
  {
   "cell_type": "markdown",
   "metadata": {},
   "source": [
    "### 5.1 Overfitting\n",
    "<span style=\"font-family:Georgia; font-size:11.5pt; color: dimgray; line-height:1.5\"> \n",
    "Overfitting: Or Why a Forest is better than One Tree\n",
    "The reason the decision tree is prone to overfitting when we don’t limit the maximum depth is because it has unlimited flexibility, meaning that it can keep growing until it has exactly one leaf node for every single observation, perfectly classifying all of them. But we have reduced the variance of the decision tree but at the cost of increasing the bias, resulting in a lower test accuracy\n"
   ]
  },
  {
   "cell_type": "code",
   "execution_count": null,
   "metadata": {},
   "outputs": [],
   "source": [
    "dt = DecisionTreeClassifier(max_depth = 100) #TODO: change max_depth here\n",
    "dt = dt.fit(X_tr, Y_tr)\n",
    "predY_tr = dt.predict(X_tr)\n",
    "predY_tr[predY_tr >= 0.5] = 1\n",
    "predY_tr[predY_tr != 1] = 0\n",
    "predY = dt.predict(X_te)\n",
    "predY[predY >= 0.5] = 1\n",
    "predY[predY != 1] = 0\n",
    "print(\"Training accuracy:\" + str(accuracy_score(Y_tr, predY_tr)))\n",
    "print(\"Testing accuracy:\" + str(accuracy_score(Y_te, predY)))"
   ]
  },
  {
   "cell_type": "markdown",
   "metadata": {},
   "source": [
    "<span style=\"font-family:Georgia; font-size:11.5pt; color: dimgray; line-height:1.5\"> \n",
    "Q. Try out on the different max depth of decision tree and report when the accuracy reaches 1 for training data and when the test accuracy reaches maximum."
   ]
  },
  {
   "cell_type": "markdown",
   "metadata": {},
   "source": [
    "<span style=\"font-family:Georgia; font-size:11.5pt; color: chocolate; line-height:1.5\">\n",
    "   Solution: "
   ]
  },
  {
   "cell_type": "markdown",
   "metadata": {},
   "source": [
    "### 5.2 Bagging them together\n",
    "<span style=\"font-family:Georgia; font-size:11.5pt; color: dimgray; line-height:1.5\"> \n",
    "Intuitively, a single tree may not be clever enough to classify our master school students. Now our goal is to implement a model that bags results of multiple decision trees and explore whether bagging is actually going to improve our model."
   ]
  },
  {
   "cell_type": "code",
   "execution_count": null,
   "metadata": {},
   "outputs": [],
   "source": [
    "from sklearn.utils import resample\n",
    "class BaggedTrees:\n",
    "\n",
    "    def __init__(self, params=None, n=200):\n",
    "        if params is None:\n",
    "            params = {}\n",
    "        self.params = params\n",
    "        self.n = n\n",
    "        self.decision_trees = [\n",
    "            DecisionTreeClassifier(max_depth = 3, random_state = i, **self.params)\n",
    "            for i in range(self.n)\n",
    "        ]\n",
    "\n",
    "    def fit(self, X, y):\n",
    "        for i in range(self.n):\n",
    "            #change the following line with bootstrapping\n",
    "            self.decision_trees[i].fit(X_tr, Y_tr)\n",
    "            \n",
    "        return self\n",
    "\n",
    "    def predict(self, X):\n",
    "        yhat = [self.decision_trees[i].predict(X) for i in range(self.n)]\n",
    "        # TODO: compute yhat_avg for BaggedTrees\n",
    "        # HINT: take the average and predict results, note that our prediction only consists of 0 and 1\n",
    "        ### start code ###\n",
    "        \n",
    "        ### end code ###\n",
    "        return yhat_avg"
   ]
  },
  {
   "cell_type": "code",
   "execution_count": null,
   "metadata": {},
   "outputs": [],
   "source": [
    "bt = BaggedTrees()\n",
    "predY = bt.fit(X_tr, Y_tr).predict(X_te)\n",
    "predY[predY >= 0.5] = 1\n",
    "predY[predY != 1] = 0\n",
    "print(accuracy_score(Y_te, predY))"
   ]
  },
  {
   "cell_type": "markdown",
   "metadata": {},
   "source": [
    "<span style=\"font-family:Georgia; font-size:11.5pt; color: dimgray; line-height:1.5\"> \n",
    "As you can see the accuracy of testing data is getting better after averaging the result from 100 decision trees or any number of decision trees (change n)."
   ]
  },
  {
   "cell_type": "markdown",
   "metadata": {},
   "source": [
    "### 5.3 Random Forest\n",
    "\n",
    "<span style=\"font-family:Georgia; font-size:11.5pt; color: dimgray; line-height:1.5\"> \n",
    "You just implemented a random forest by yourself! Congratulations. Random Forest is a tree-based machine learning algorithm that leverages the power of multiple decision trees for making decisions. As the name suggests, it is a “forest” of trees!\n",
    "<span style=\"font-family:Georgia; font-size:11.5pt; color: dimgray; line-height:1.5\"> \n",
    "But why do we call it a “random” forest? That’s because it is a forest of randomly created decision trees. As you can see from the skeleton code above -- we set the random state for each decision tree and thus each node in the decision tree works on a random subset of features to calculate the output. The random forest then combines the output of individual decision trees to generate the final output.\n",
    "<span style=\"font-family:Georgia; font-size:11.5pt; color: dimgray; line-height:1.5\"> \n",
    "And that is our bagged trees. Let's see the result of random forest implemented by sklearn."
   ]
  },
  {
   "cell_type": "code",
   "execution_count": null,
   "metadata": {},
   "outputs": [],
   "source": [
    "from sklearn.ensemble import RandomForestRegressor\n",
    "\n",
    "rf = RandomForestRegressor(max_depth = 3,n_estimators = 50,random_state=1)\n",
    "predY = rf.fit(X_tr, Y_tr).predict(X_te)\n",
    "predY[predY >= 0.5] = 1\n",
    "predY[predY != 1] = 0\n",
    "print(accuracy_score(Y_te, predY))"
   ]
  },
  {
   "cell_type": "markdown",
   "metadata": {},
   "source": [
    "<img src = \"https://miro.medium.com/max/500/1*10t9S7xvWE5Z3NEZrmHG2w.jpeg\">\n",
    "<center>This is bagging, try to get the intuition here.</center>"
   ]
  },
  {
   "cell_type": "markdown",
   "metadata": {},
   "source": [
    "# Reference\n",
    "https://blog.paperspace.com/decision-trees/"
   ]
  },
  {
   "cell_type": "markdown",
   "metadata": {},
   "source": [
    "https://becominghuman.ai/ensemble-learning-bagging-and-boosting-d20f38be9b1e"
   ]
  },
  {
   "cell_type": "markdown",
   "metadata": {},
   "source": [
    "https://www.kaggle.com/kashnitsky/topic-5-ensembles-part-1-bagging "
   ]
  },
  {
   "cell_type": "markdown",
   "metadata": {},
   "source": [
    "https://www.textbook.ds100.org/ch/15/bias_cv.html?highlight=cross#k-fold-cross-validation"
   ]
  },
  {
   "cell_type": "code",
   "execution_count": null,
   "metadata": {},
   "outputs": [],
   "source": []
  }
 ],
 "metadata": {
  "kernelspec": {
   "display_name": "Python 3",
   "language": "python",
   "name": "python3"
  },
  "language_info": {
   "codemirror_mode": {
    "name": "ipython",
    "version": 3
   },
   "file_extension": ".py",
   "mimetype": "text/x-python",
   "name": "python",
   "nbconvert_exporter": "python",
   "pygments_lexer": "ipython3",
   "version": "3.7.3"
  }
 },
 "nbformat": 4,
 "nbformat_minor": 2
}
